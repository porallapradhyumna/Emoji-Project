{
 "cells": [
  {
   "cell_type": "code",
   "execution_count": null,
   "metadata": {},
   "outputs": [],
   "source": [
    "import pandas as pd"
   ]
  },
  {
   "cell_type": "code",
   "execution_count": null,
   "metadata": {},
   "outputs": [],
   "source": [
    "df  =  pd.read_csv('tweets_scooter_emoji_1.csv')"
   ]
  },
  {
   "cell_type": "code",
   "execution_count": 1,
   "metadata": {},
   "outputs": [],
   "source": [
    "import EmojiForms"
   ]
  },
  {
   "cell_type": "code",
   "execution_count": 2,
   "metadata": {},
   "outputs": [],
   "source": [
    "ef  = EmojiForms.EmojiForms(url=\"https://unicode.org/emoji/charts/full-emoji-modifiers.html\")"
   ]
  },
  {
   "cell_type": "code",
   "execution_count": 3,
   "metadata": {},
   "outputs": [],
   "source": [
    "df = ef.get_emojis_and_unicode()"
   ]
  },
  {
   "cell_type": "code",
   "execution_count": 4,
   "metadata": {},
   "outputs": [
    {
     "data": {
      "text/html": [
       "<div>\n",
       "<style scoped>\n",
       "    .dataframe tbody tr th:only-of-type {\n",
       "        vertical-align: middle;\n",
       "    }\n",
       "\n",
       "    .dataframe tbody tr th {\n",
       "        vertical-align: top;\n",
       "    }\n",
       "\n",
       "    .dataframe thead th {\n",
       "        text-align: right;\n",
       "    }\n",
       "</style>\n",
       "<table border=\"1\" class=\"dataframe\">\n",
       "  <thead>\n",
       "    <tr style=\"text-align: right;\">\n",
       "      <th></th>\n",
       "      <th>Emoji</th>\n",
       "      <th>Unicode</th>\n",
       "      <th>Hex</th>\n",
       "    </tr>\n",
       "  </thead>\n",
       "  <tbody>\n",
       "    <tr>\n",
       "      <th>0</th>\n",
       "      <td>👋🏻</td>\n",
       "      <td>b'\\\\U0001f44b\\\\U0001f3fb'</td>\n",
       "      <td>b'\\xf0\\x9f\\x91\\x8b\\xf0\\x9f\\x8f\\xbb'</td>\n",
       "    </tr>\n",
       "    <tr>\n",
       "      <th>1</th>\n",
       "      <td>👋🏼</td>\n",
       "      <td>b'\\\\U0001f44b\\\\U0001f3fc'</td>\n",
       "      <td>b'\\xf0\\x9f\\x91\\x8b\\xf0\\x9f\\x8f\\xbc'</td>\n",
       "    </tr>\n",
       "    <tr>\n",
       "      <th>2</th>\n",
       "      <td>👋🏽</td>\n",
       "      <td>b'\\\\U0001f44b\\\\U0001f3fd'</td>\n",
       "      <td>b'\\xf0\\x9f\\x91\\x8b\\xf0\\x9f\\x8f\\xbd'</td>\n",
       "    </tr>\n",
       "    <tr>\n",
       "      <th>3</th>\n",
       "      <td>👋🏾</td>\n",
       "      <td>b'\\\\U0001f44b\\\\U0001f3fe'</td>\n",
       "      <td>b'\\xf0\\x9f\\x91\\x8b\\xf0\\x9f\\x8f\\xbe'</td>\n",
       "    </tr>\n",
       "    <tr>\n",
       "      <th>4</th>\n",
       "      <td>👋🏿</td>\n",
       "      <td>b'\\\\U0001f44b\\\\U0001f3ff'</td>\n",
       "      <td>b'\\xf0\\x9f\\x91\\x8b\\xf0\\x9f\\x8f\\xbf'</td>\n",
       "    </tr>\n",
       "    <tr>\n",
       "      <th>...</th>\n",
       "      <td>...</td>\n",
       "      <td>...</td>\n",
       "      <td>...</td>\n",
       "    </tr>\n",
       "    <tr>\n",
       "      <th>1785</th>\n",
       "      <td>🏻</td>\n",
       "      <td>b'\\\\U0001f3fb'</td>\n",
       "      <td>b'\\xf0\\x9f\\x8f\\xbb'</td>\n",
       "    </tr>\n",
       "    <tr>\n",
       "      <th>1786</th>\n",
       "      <td>🏼</td>\n",
       "      <td>b'\\\\U0001f3fc'</td>\n",
       "      <td>b'\\xf0\\x9f\\x8f\\xbc'</td>\n",
       "    </tr>\n",
       "    <tr>\n",
       "      <th>1787</th>\n",
       "      <td>🏽</td>\n",
       "      <td>b'\\\\U0001f3fd'</td>\n",
       "      <td>b'\\xf0\\x9f\\x8f\\xbd'</td>\n",
       "    </tr>\n",
       "    <tr>\n",
       "      <th>1788</th>\n",
       "      <td>🏾</td>\n",
       "      <td>b'\\\\U0001f3fe'</td>\n",
       "      <td>b'\\xf0\\x9f\\x8f\\xbe'</td>\n",
       "    </tr>\n",
       "    <tr>\n",
       "      <th>1789</th>\n",
       "      <td>🏿</td>\n",
       "      <td>b'\\\\U0001f3ff'</td>\n",
       "      <td>b'\\xf0\\x9f\\x8f\\xbf'</td>\n",
       "    </tr>\n",
       "  </tbody>\n",
       "</table>\n",
       "<p>1790 rows × 3 columns</p>\n",
       "</div>"
      ],
      "text/plain": [
       "     Emoji                    Unicode                                  Hex\n",
       "0       👋🏻  b'\\\\U0001f44b\\\\U0001f3fb'  b'\\xf0\\x9f\\x91\\x8b\\xf0\\x9f\\x8f\\xbb'\n",
       "1       👋🏼  b'\\\\U0001f44b\\\\U0001f3fc'  b'\\xf0\\x9f\\x91\\x8b\\xf0\\x9f\\x8f\\xbc'\n",
       "2       👋🏽  b'\\\\U0001f44b\\\\U0001f3fd'  b'\\xf0\\x9f\\x91\\x8b\\xf0\\x9f\\x8f\\xbd'\n",
       "3       👋🏾  b'\\\\U0001f44b\\\\U0001f3fe'  b'\\xf0\\x9f\\x91\\x8b\\xf0\\x9f\\x8f\\xbe'\n",
       "4       👋🏿  b'\\\\U0001f44b\\\\U0001f3ff'  b'\\xf0\\x9f\\x91\\x8b\\xf0\\x9f\\x8f\\xbf'\n",
       "...    ...                        ...                                  ...\n",
       "1785     🏻             b'\\\\U0001f3fb'                  b'\\xf0\\x9f\\x8f\\xbb'\n",
       "1786     🏼             b'\\\\U0001f3fc'                  b'\\xf0\\x9f\\x8f\\xbc'\n",
       "1787     🏽             b'\\\\U0001f3fd'                  b'\\xf0\\x9f\\x8f\\xbd'\n",
       "1788     🏾             b'\\\\U0001f3fe'                  b'\\xf0\\x9f\\x8f\\xbe'\n",
       "1789     🏿             b'\\\\U0001f3ff'                  b'\\xf0\\x9f\\x8f\\xbf'\n",
       "\n",
       "[1790 rows x 3 columns]"
      ]
     },
     "execution_count": 4,
     "metadata": {},
     "output_type": "execute_result"
    }
   ],
   "source": [
    "df"
   ]
  }
 ],
 "metadata": {
  "kernelspec": {
   "display_name": "Python 3.9.13 ('emoji_env')",
   "language": "python",
   "name": "python3"
  },
  "language_info": {
   "codemirror_mode": {
    "name": "ipython",
    "version": 3
   },
   "file_extension": ".py",
   "mimetype": "text/x-python",
   "name": "python",
   "nbconvert_exporter": "python",
   "pygments_lexer": "ipython3",
   "version": "3.9.13"
  },
  "orig_nbformat": 4,
  "vscode": {
   "interpreter": {
    "hash": "8390893d9a22fbd334b81f1328148959365ee94435de27abdaa0910a62ad0dc9"
   }
  }
 },
 "nbformat": 4,
 "nbformat_minor": 2
}
